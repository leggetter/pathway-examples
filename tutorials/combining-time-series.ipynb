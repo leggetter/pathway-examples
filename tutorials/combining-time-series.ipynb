{
  "cells": [
    {
      "cell_type": "markdown",
      "metadata": {
        "id": "view-in-colab"
      },
      "source": [
        "<a href=\"https://colab.research.google.com/github/pathwaycom/pathway-examples/blob/main/tutorials/combining-time-series.ipynb\" target=\"_parent\"><img src=\"https://pathway.com/assets/colab-badge.svg\" alt=\"Run In Colab\" class=\"inline\"/></a>"
      ]
    },
    {
      "cell_type": "markdown",
      "source": [
        "# Installing Pathway with Python 3.8+\n",
        "\n",
        "In the cell below, we install Pathway into a Python 3.8+ Linux runtime.\n",
        "\n",
        "> **If you are running in Google Colab, please run the colab notebook (Ctrl+F9)**, disregarding the 'not authored by Google' warning.\n",
        "> \n",
        "> **The installation and loading time is less than 1 minute**.\n"
      ],
      "metadata": {
        "id": "notebook-instructions"
      }
    },
    {
      "cell_type": "code",
      "source": [
        "%%capture --no-display\n",
        "!pip install pathway"
      ],
      "metadata": {
        "id": "pip-installation-pathway",
        "cellView": "form"
      },
      "execution_count": null,
      "outputs": []
    },
    {
      "cell_type": "markdown",
      "id": "82c3f9a0",
      "metadata": {
        "lines_to_next_cell": 0
      },
      "source": [
        "# Combining two time series in Pathway\n",
        "In this article, you will learn how to combine time series in Pathway.\n",
        "\n",
        "With the emergence of IoT technology, we now have a wide range of sensor devices at our disposal that can measure almost anything, from GPS positions to humidity and temperature.\n",
        "Since each measurement is timestamped, this generated data are time series: the data can be analyzed and modeled as a sequence of values that change over time.\n",
        "\n",
        "![Example of combination of two time series](https://pathway.com/assets/content/tutorials/time_series/time_series_join_process.svg)\n",
        "\n",
        "While combining time series data can be challenging due to the lack of matching timestamps between different datasets, it is a crucial operation.\n",
        "Combining values from multiple sensors measuring the same metric can improve measurement accuracy.\n",
        "Also, combining various metrics on a common time index allows in-depth analysis and modeling.\n",
        "\n",
        "![Example of two time series with different timestamps'\n",
        "width: '500px](https://pathway.com/assets/content/tutorials/time_series/time_series_1.svg)\n\n",
        "\n",
        "In this article, we will explore how to combine time series data using Pathway by calculating the average speed of a fleet of cars.\n",
        "So, fasten your seatbelt and get ready to explore the world of time series!\n",
        "\n",
        "## Time series\n",
        "\n",
        "A time series is a type of data that records observations or measurements over time. It can be anything from stock prices, weather data, or the number of customers visiting a store to more complex measures like physiological signals from medical devices.\n",
        "Consider a time series as a sequence of data points collected at regular or irregular intervals over time. Each data point in a time series represents a measurement or observation made at a specific point in time.\n",
        "\n",
        "::inline\n",
        "\n",
        "::article-img\n",
        "---\n",
        "src: '/assets/content/tutorials/time_series/single_time_series.svg'\n",
        "alt: 'Example of a time series represented as an event stream'\n",
        "width: '75px'\n",
        "---\n",
        "::\n",
        "\n",
        "::article-img\n",
        "---\n",
        "src: '/assets/content/tutorials/time_series/time_series_graph.svg'\n",
        "alt: 'Example of a time series represented as a graph'\n",
        "width: '350px'\n",
        "---\n",
        "::\n",
        "\n",
        "::article-img\n",
        "---\n",
        "src: '/assets/content/tutorials/time_series/time_series_table-cropped.svg'\n",
        "alt: 'Example of a time series represented as a table'\n",
        "width: '150px'\n",
        "---\n",
        "::\n",
        "\n",
        "::\n",
        "\n",
        "<!---\n",
        "![Example of a time series represented as an event stream](https://pathway.com/assets/content/tutorials/time_series/single_time_series.svg)\n",
        "![Example of a time series represented as a graph](https://pathway.com/assets/content/tutorials/time_series/time_series_graph.svg)\n",
        "![Example of a time series represented as a table](https://pathway.com/assets/content/tutorials/time_series/time_series_table-cropped.svg)\n",
        "-->\n",
        "\n",
        "The concept of time series is critical in many real-world applications, from finance and economics to healthcare and meteorology. Analyzing time series data allows us to gain insights into patterns, trends, and relationships between variables over time. For example, we can use time series data to forecast future values, identify anomalies, or monitor changes in a system.\n",
        "Time series data can be represented in various formats, from simple spreadsheets to complex databases. However, analyzing and modeling time series data can be challenging due to its complex nature and different types of noise and anomalies.\n",
        "\n",
        "\n",
        "### Combining time series\n",
        "\n",
        "Combining time series is the process of combining different time series into a single time series based on a common timestamp or index. In other words, combining time series consists in merging data from various sources into a comprehensive time series, allowing for deeper analysis and modeling.\n",
        "\n",
        "![Example of combination of two time series](https://pathway.com/assets/content/tutorials/time_series/time_series_join_process.svg)\n",
        "\n",
        "Combining time series are essential for several reasons. Firstly, it can improve the accuracy of the measurements by combining the values of several sensors measuring the same metric. For example, imagine you have multiple sensors measuring the temperature of a room. By combining the time series data from these sensors, you can get a more accurate representation of the temperature in the room.\n",
        "\n",
        "Secondly, by combining and analyzing various time series data streams, valuable insights can be derived across different domains, enabling performance optimization, predictive maintenance, resource management, and strategic decision-making:\n",
        " - Website analytics \ud83d\udcbb: Combining time series data on website traffic, user engagement, conversion rates, and marketing campaign metrics can provide insights into user behavior, measure the effectiveness of marketing efforts, and optimize website performance.\n",
        " - Health monitoring \ud83e\ude7a: Combining time series data from wearable devices, such as heart rate, sleep patterns, and physical activity, can help track and analyze individuals' health and wellness trends, enabling personalized healthcare interventions.\n",
        " - Environmental monitoring \ud83c\udf21\ufe0f: Combining time series data from air quality sensors, weather stations, and pollutant levels can provide a comprehensive understanding of the environment's condition, aid in pollution control efforts, and support urban planning initiatives.\n",
        " - Supply chain management \ud83d\udce6: Combining time series data on inventory levels, production rates, transportation delays, and customer demand can optimize inventory management, improve delivery schedules, and enhance overall supply chain efficiency.\n",
        " - Analyzing stock market data \ud83d\udcc8: Combining time series of stock prices, trading volumes, and financial indicators can provide a comprehensive view of the market's behavior and aid in identifying trends, correlations, and investment opportunities.\n",
        " - Technical analysis and development \ud83c\udfce\ufe0f: Combining time series data on car sensors readings, engine performance, aerodynamic data, and telemetry can aid in the technical analysis and development of Formula 1 cars, leading to improvements in speed, reliability, and overall performance.\n",
        "\n",
        "Combining time series is an essential operation in time series analysis, but it can be challenging due to the need for matching timestamps between different datasets. Nonetheless, various techniques and tools can help us merge time series data effectively, such as interpolation or merging on the closest timestamp."
      ]
    },
    {
      "cell_type": "markdown",
      "id": "34ce9121",
      "metadata": {
        "jp-MarkdownHeadingCollapsed": true,
        "lines_to_next_cell": 0
      },
      "source": [
        "## The average speed of a taxi and its passenger\n",
        "Imagine you are working for a taxi company, and people are using your app to book a ride.\n",
        "You can access the GPS traces of the taxi and the passengers.\n",
        "By using those two traces jointly, you can better approximate the average speed of the ride.\n",
        "This allows you to identify potential bottlenecks or inefficiencies in the system and take corrective measures to improve traffic flow and reduce travel time.\n"
      ]
    },
    {
      "cell_type": "markdown",
      "id": "10fb274c",
      "metadata": {},
      "source": [
        "## Creating the dataset\n",
        "\n",
        "Unfortunately, it is hard to find publicly available datasets with the characteristics we are interested in.\n",
        "Existing publicly available GPS datasets contain individual taxi traces without the passengers' GPS traces.\n",
        "You will generate our pairs of traces from one of such individual traces.\n",
        "\n",
        "### The dataset: GeoLife\n",
        "You will use one trace of the [GeoLife dataset](https://www.microsoft.com/en-us/research/publication/geolife-gps-trajectory-dataset-user-guide/) from Microsoft Research.\n",
        "GeoLife is a GPS trajectory dataset containing 17,621 trajectories obtained using different GPS loggers and phones.\n",
        "\n",
        "### Generation of a fleet of two cars\n",
        "Let's generate two traces by splitting the trace: each GPS data point is alternatively assigned to one of the new traces.\n",
        "This ensures that the two traces have the same trajectory while having different timestamps.\n",
        "\n",
        "You can download the trace of this example by uncommenting and executing the following command:"
      ]
    },
    {
      "cell_type": "code",
      "execution_count": 1,
      "id": "040a26a3",
      "metadata": {
        "execution": {
          "iopub.execute_input": "2023-07-26T09:00:07.351010Z",
          "iopub.status.busy": "2023-07-26T09:00:07.350897Z",
          "iopub.status.idle": "2023-07-26T09:00:07.355223Z",
          "shell.execute_reply": "2023-07-26T09:00:07.354962Z"
        }
      },
      "outputs": [],
      "source": [
        "%%capture --no-display\n",
        "# !wget https://public-pathway-releases.s3.eu-central-1.amazonaws.com/data/time-series-raw-trace.plt -O raw-trace.plt"
      ]
    },
    {
      "cell_type": "markdown",
      "id": "d9e38ee4",
      "metadata": {},
      "source": [
        "To split the trace into two different traces, we simply read the file line by line and write each line into new CSV files:"
      ]
    },
    {
      "cell_type": "code",
      "execution_count": 2,
      "id": "cc95860f",
      "metadata": {
        "execution": {
          "iopub.execute_input": "2023-07-26T09:00:07.356676Z",
          "iopub.status.busy": "2023-07-26T09:00:07.356560Z",
          "iopub.status.idle": "2023-07-26T09:00:07.361798Z",
          "shell.execute_reply": "2023-07-26T09:00:07.361542Z"
        }
      },
      "outputs": [],
      "source": [
        "input_trace = \"./raw-trace.plt\"\n",
        "trace_taxi = \"./trace_taxi.csv\"\n",
        "trace_passenger = \"./trace_passenger.csv\"\n",
        "header_row = \"lat,lng,const,alt,elapsed-time,date,time\\n\"\n",
        "\n",
        "with open(input_trace, \"r\") as file:\n",
        "    line = file.readline()\n",
        "    for _ in range(5):\n",
        "        line = file.readline()\n",
        "\n",
        "    trace1 = open(trace_taxi, \"w+\")\n",
        "    trace2 = open(trace_passenger, \"w+\")\n",
        "    trace1.write(header_row)\n",
        "    trace2.write(header_row)\n",
        "\n",
        "    dataset = 1\n",
        "\n",
        "    while line:\n",
        "        line = file.readline()\n",
        "        if dataset:\n",
        "            trace1.write(line)\n",
        "            dataset = 0\n",
        "        else:\n",
        "            trace2.write(line)\n",
        "            dataset = 1\n",
        "    trace1.close()\n",
        "    trace2.close()"
      ]
    },
    {
      "cell_type": "markdown",
      "id": "35e5cebe",
      "metadata": {},
      "source": [
        "## Loading the data sources in Pathway\n",
        "\n",
        "To connect Pathway to the two data sources, you have to use Pathway's input connectors.\n",
        "You do not need all the provided data; you can keep only the interesting ones, namely the latitude, longitude, altitude, date, and time:"
      ]
    },
    {
      "cell_type": "code",
      "execution_count": 3,
      "id": "4f0b8b0f",
      "metadata": {
        "execution": {
          "iopub.execute_input": "2023-07-26T09:00:07.363282Z",
          "iopub.status.busy": "2023-07-26T09:00:07.363171Z",
          "iopub.status.idle": "2023-07-26T09:00:08.634811Z",
          "shell.execute_reply": "2023-07-26T09:00:08.634317Z"
        }
      },
      "outputs": [],
      "source": [
        "import pathway as pw\n",
        "\n",
        "columns = [\"lat\", \"lng\", \"alt\", \"date\", \"time\"]\n",
        "\n",
        "\n",
        "class InputSchema(pw.Schema):\n",
        "    lat: float\n",
        "    lng: float\n",
        "    alt: float\n",
        "    date: str\n",
        "    time: str\n",
        "\n",
        "\n",
        "t1 = pw.io.csv.read(trace_taxi, schema=InputSchema, mode=\"static\")\n",
        "t2 = pw.io.csv.read(trace_passenger, schema=InputSchema, mode=\"static\")"
      ]
    },
    {
      "cell_type": "markdown",
      "id": "7efaf453",
      "metadata": {},
      "source": [
        "Note that you use the static mode in this example, but in practice, you should use the streaming mode.\n",
        "You can also [generate a datastream from a static file](/developers/tutorials/connectors/custom-python-connectors)."
      ]
    },
    {
      "cell_type": "markdown",
      "id": "612ce37a",
      "metadata": {},
      "source": [
        "### Formatting the data\n",
        "After loading the raw data, it's important to format it properly to ensure it can be processed efficiently.\n",
        "\n",
        "First, the time is currently represented by two strings, one for the date and one for the time.\n",
        "Having a single timestamp can simplify the data processing task.\n",
        "You can use `dateutil` and `datetime` to parse them into a timestamp."
      ]
    },
    {
      "cell_type": "code",
      "execution_count": 4,
      "id": "595f6858",
      "metadata": {
        "execution": {
          "iopub.execute_input": "2023-07-26T09:00:08.636900Z",
          "iopub.status.busy": "2023-07-26T09:00:08.636668Z",
          "iopub.status.idle": "2023-07-26T09:00:08.653615Z",
          "shell.execute_reply": "2023-07-26T09:00:08.653259Z"
        }
      },
      "outputs": [],
      "source": [
        "from datetime import datetime, time\n",
        "\n",
        "from dateutil import parser, tz\n",
        "\n",
        "default_date = datetime.combine(\n",
        "    datetime.now(), time(0, tzinfo=tz.gettz(\"America/New_York\"))\n",
        ")\n",
        "\n",
        "\n",
        "def convert_to_timestamp(date, time) -> int:\n",
        "    datestring = date + \" \" + time\n",
        "    yourdate = parser.parse(datestring, default=default_date)\n",
        "    return int(datetime.timestamp(yourdate))\n",
        "\n",
        "\n",
        "def format_table(t):\n",
        "    return t.select(\n",
        "        *pw.this.without(pw.this.date, pw.this.time),\n",
        "        timestamp=pw.apply(convert_to_timestamp, pw.this.date, pw.this.time),\n",
        "    )\n",
        "\n",
        "\n",
        "t1_timestamp = format_table(t1)\n",
        "t2_timestamp = format_table(t2)"
      ]
    },
    {
      "cell_type": "markdown",
      "id": "1b3fcd53",
      "metadata": {},
      "source": [
        "Now your time series are ready to be combined and processed!"
      ]
    },
    {
      "cell_type": "markdown",
      "id": "61c29620",
      "metadata": {},
      "source": [
        "### Obtaining a preview of the data\n",
        "\n",
        "Pathway is a framework capable of handling both static and streaming data.\n",
        "However, it is primarily designed to handle streaming data and enable real-time data processing.\n",
        "\n",
        "To ensure that the data is being processed correctly, you can define a function `preview_table` to preview the data.\n",
        "\u26a0\ufe0f It's important to note that **this function should not be used in a production environment** since it relies on `pw.debug.compute_and_print` and static data.\n",
        "Its primary purpose is to check that the data is being processed correctly and to help with the development and testing phase of the data processing pipeline.\n",
        "You should use [Pathway's output connectors](/developers/user-guide/input-and-output-streams/connectors/) to access the data in streaming mode.\n",
        "\n",
        "In this case, you can filter all the entries with a timestamp higher than a given value to only display a small portion of the dataset."
      ]
    },
    {
      "cell_type": "code",
      "execution_count": 5,
      "id": "1a87be96",
      "metadata": {
        "execution": {
          "iopub.execute_input": "2023-07-26T09:00:08.655489Z",
          "iopub.status.busy": "2023-07-26T09:00:08.655346Z",
          "iopub.status.idle": "2023-07-26T09:00:08.675269Z",
          "shell.execute_reply": "2023-07-26T09:00:08.674912Z"
        }
      },
      "outputs": [
        {
          "name": "stderr",
          "output_type": "stream",
          "text": [
            "[2023-07-26T11:00:08]:INFO:Preparing Pathway computation\n",
            "[2023-07-26T11:00:08]:INFO:CsvFilesystemReader-0: 0 entries (1 minibatch(es)) have been sent to the engine\n",
            "[2023-07-26T11:00:08]:INFO:CsvFilesystemReader-0: 12 entries (2 minibatch(es)) have been sent to the engine\n",
            "[2023-07-26T11:00:08]:WARNING:CsvFilesystemReader-0: Closing the data source\n",
            "[2023-07-26T11:00:08]:INFO:Preparing Pathway computation\n",
            "[2023-07-26T11:00:08]:INFO:CsvFilesystemReader-0: 0 entries (1 minibatch(es)) have been sent to the engine\n",
            "[2023-07-26T11:00:08]:INFO:CsvFilesystemReader-0: 12 entries (2 minibatch(es)) have been sent to the engine\n",
            "[2023-07-26T11:00:08]:WARNING:CsvFilesystemReader-0: Closing the data source\n"
          ]
        },
        {
          "name": "stdout",
          "output_type": "stream",
          "text": [
            "            | lat       | lng        | alt   | timestamp\n",
            "^S88CAXR... | 39.984608 | 116.317761 | 493.0 | 1224744815\n",
            "^GFB4P4F... | 39.984655 | 116.318263 | 492.0 | 1224744805\n",
            "^8D4JHAV... | 39.984686 | 116.318417 | 492.0 | 1224744795\n",
            "^YZ9FT1E... | 39.984702 | 116.318417 | 492.0 | 1224744784\n",
            "            | lat       | lng        | alt   | timestamp\n",
            "^FESPBKE... | 39.984563 | 116.317517 | 496.0 | 1224744820\n",
            "^YKANQYA... | 39.984611 | 116.318026 | 493.0 | 1224744810\n",
            "^9ENZ8GC... | 39.984683 | 116.31845  | 492.0 | 1224744790\n",
            "^2RN7AVD... | 39.984688 | 116.318385 | 492.0 | 1224744800\n"
          ]
        }
      ],
      "source": [
        "def preview_table(table, max_timestamp=1224744825):\n",
        "    table = table.filter(pw.this.timestamp < max_timestamp)\n",
        "    pw.debug.compute_and_print(table)\n",
        "\n",
        "\n",
        "preview_table(t1_timestamp)\n",
        "preview_table(t2_timestamp)"
      ]
    },
    {
      "cell_type": "markdown",
      "id": "36cda1c0",
      "metadata": {},
      "source": [
        "The value 1224744825 is hand-picked to fit this dataset; you can replace it by any desired value."
      ]
    },
    {
      "cell_type": "markdown",
      "id": "ae423f54",
      "metadata": {},
      "source": [
        "## Combining the time series and computing the average speed\n",
        "To compute the average speed of the traces, you will proceed as follows:\n",
        "1. Concatenate the time series to obtain a table with the timestamps of both traces.\n",
        "2. Add the existing positions: each timestamp should have a position and a missing position.\n",
        "3. Do an interpolation to estimate the missing values.\n",
        "4. Compute the average speed\n",
        "\n",
        "### 1. Concatenation\n",
        "\n",
        "The first step to combine the two time series is to concatenate them: you want a table with all the timestamps.\n",
        "\n",
        "![Concatenating the timestamps of two time series](https://pathway.com/assets/content/tutorials/time_series/concatenating_timestamps.svg)\n",
        "\n",
        "You can do it easily in Pathway with `pw.Table.concat_reindex`:"
      ]
    },
    {
      "cell_type": "code",
      "execution_count": 6,
      "id": "c26dc098",
      "metadata": {
        "execution": {
          "iopub.execute_input": "2023-07-26T09:00:08.677037Z",
          "iopub.status.busy": "2023-07-26T09:00:08.676775Z",
          "iopub.status.idle": "2023-07-26T09:00:08.691689Z",
          "shell.execute_reply": "2023-07-26T09:00:08.691346Z"
        }
      },
      "outputs": [],
      "source": [
        "merged_timestamps = pw.Table.concat_reindex(\n",
        "    t1_timestamp[[\"timestamp\"]], t2_timestamp[[\"timestamp\"]]\n",
        ")"
      ]
    },
    {
      "cell_type": "code",
      "execution_count": 7,
      "id": "72c2c075",
      "metadata": {
        "execution": {
          "iopub.execute_input": "2023-07-26T09:00:08.693201Z",
          "iopub.status.busy": "2023-07-26T09:00:08.693087Z",
          "iopub.status.idle": "2023-07-26T09:00:08.703757Z",
          "shell.execute_reply": "2023-07-26T09:00:08.703408Z"
        },
        "lines_to_next_cell": 2
      },
      "outputs": [
        {
          "name": "stderr",
          "output_type": "stream",
          "text": [
            "[2023-07-26T11:00:08]:INFO:Preparing Pathway computation\n",
            "[2023-07-26T11:00:08]:INFO:CsvFilesystemReader-0: 0 entries (1 minibatch(es)) have been sent to the engine\n",
            "[2023-07-26T11:00:08]:INFO:CsvFilesystemReader-0: 12 entries (2 minibatch(es)) have been sent to the engine\n",
            "[2023-07-26T11:00:08]:WARNING:CsvFilesystemReader-0: Closing the data source\n",
            "[2023-07-26T11:00:08]:INFO:CsvFilesystemReader-1: 0 entries (1 minibatch(es)) have been sent to the engine\n",
            "[2023-07-26T11:00:08]:INFO:CsvFilesystemReader-1: 12 entries (2 minibatch(es)) have been sent to the engine\n",
            "[2023-07-26T11:00:08]:WARNING:CsvFilesystemReader-1: Closing the data source\n"
          ]
        },
        {
          "name": "stdout",
          "output_type": "stream",
          "text": [
            "            | timestamp\n",
            "^VPTAM3N... | 1224744784\n",
            "^7VE6VEJ... | 1224744790\n",
            "^RK77Y0P... | 1224744795\n",
            "^2YXS1CN... | 1224744800\n",
            "^N3ZXB6D... | 1224744805\n",
            "^A2N1YDJ... | 1224744810\n",
            "^2BBGPQZ... | 1224744815\n",
            "^1M29S56... | 1224744820\n"
          ]
        }
      ],
      "source": [
        "preview_table(merged_timestamps)"
      ]
    },
    {
      "cell_type": "markdown",
      "id": "887cf477",
      "metadata": {},
      "source": [
        "### 2. Adding existing positions\n",
        "Now that you have a table with the timestamps, you must add the positions.\n",
        "You can add the positions by doing a left join on the timestamp table.\n",
        "\n",
        "![Time series with missing values](https://pathway.com/assets/content/tutorials/time_series/time_series_missing_values.svg)\n",
        "\n",
        "\n",
        "You need to rename the columns `lat`, `lng`, and `alt` to `lat_1`, `lng_1`, `alt_1`, `lat_2`, `lng_2`, and `alt_2` to make the distinction between the two data sources."
      ]
    },
    {
      "cell_type": "code",
      "execution_count": 8,
      "id": "c143c66e",
      "metadata": {
        "execution": {
          "iopub.execute_input": "2023-07-26T09:00:08.705174Z",
          "iopub.status.busy": "2023-07-26T09:00:08.704981Z",
          "iopub.status.idle": "2023-07-26T09:00:08.740073Z",
          "shell.execute_reply": "2023-07-26T09:00:08.739724Z"
        }
      },
      "outputs": [
        {
          "name": "stderr",
          "output_type": "stream",
          "text": [
            "[2023-07-26T11:00:08]:INFO:Preparing Pathway computation\n",
            "[2023-07-26T11:00:08]:INFO:CsvFilesystemReader-0: 0 entries (1 minibatch(es)) have been sent to the engine\n",
            "[2023-07-26T11:00:08]:INFO:CsvFilesystemReader-0: 12 entries (2 minibatch(es)) have been sent to the engine\n",
            "[2023-07-26T11:00:08]:WARNING:CsvFilesystemReader-0: Closing the data source\n",
            "[2023-07-26T11:00:08]:INFO:CsvFilesystemReader-1: 0 entries (1 minibatch(es)) have been sent to the engine\n",
            "[2023-07-26T11:00:08]:INFO:CsvFilesystemReader-1: 12 entries (2 minibatch(es)) have been sent to the engine\n",
            "[2023-07-26T11:00:08]:WARNING:CsvFilesystemReader-1: Closing the data source\n"
          ]
        },
        {
          "name": "stdout",
          "output_type": "stream",
          "text": [
            "            | timestamp  | lat_1     | lng_1      | alt_1 | lat_2     | lng_2      | alt_2\n",
            "^XA77Y7Z... | 1224744784 | 39.984702 | 116.318417 | 492.0 |           |            |\n",
            "^DETEYKT... | 1224744790 |           |            |       | 39.984683 | 116.31845  | 492.0\n",
            "^Z33G2XH... | 1224744795 | 39.984686 | 116.318417 | 492.0 |           |            |\n",
            "^1PNAT3Y... | 1224744800 |           |            |       | 39.984688 | 116.318385 | 492.0\n",
            "^R3NYGA2... | 1224744805 | 39.984655 | 116.318263 | 492.0 |           |            |\n",
            "^MKH9F60... | 1224744810 |           |            |       | 39.984611 | 116.318026 | 493.0\n",
            "^8K56TY7... | 1224744815 | 39.984608 | 116.317761 | 493.0 |           |            |\n",
            "^HYV4MSB... | 1224744820 |           |            |       | 39.984563 | 116.317517 | 496.0\n"
          ]
        }
      ],
      "source": [
        "joined_table = (\n",
        "    merged_timestamps.join_left(t1_timestamp, pw.left.timestamp == pw.right.timestamp)\n",
        "    .select(\n",
        "        *pw.left,\n",
        "        **pw.right[[\"lat\", \"lng\", \"alt\"]].with_suffix(\"_1\"),\n",
        "    )\n",
        "    .join_left(t2_timestamp, pw.left.timestamp == pw.right.timestamp)\n",
        "    .select(\n",
        "        *pw.left,\n",
        "        **pw.right[[\"lat\", \"lng\", \"alt\"]].with_suffix(\"_2\"),\n",
        "    )\n",
        ")\n",
        "preview_table(joined_table)"
      ]
    },
    {
      "cell_type": "markdown",
      "id": "8db079a9",
      "metadata": {},
      "source": [
        "Your table now has all the existing positions, but the columns with the positions are half-empty.\n",
        "To fill the missing positions, you must compute an interpolation between the previous and last positions."
      ]
    },
    {
      "cell_type": "markdown",
      "id": "fe396b78",
      "metadata": {},
      "source": [
        "### 3. Interpolating the positions\n",
        "Now, you will fill the missing values by interpolating with the previous and next values you found.\n",
        "\n",
        "![Filling the missing values](https://pathway.com/assets/content/tutorials/time_series/filling_missing_values.svg)\n"
      ]
    },
    {
      "cell_type": "markdown",
      "id": "cde58c60",
      "metadata": {},
      "source": [
        "You need to do a linear interpolation on each column, using the column timestamp as index.\n",
        "This can be done using Pathway's `interpolate` function:"
      ]
    },
    {
      "cell_type": "code",
      "execution_count": 9,
      "id": "365d235e",
      "metadata": {
        "execution": {
          "iopub.execute_input": "2023-07-26T09:00:08.741463Z",
          "iopub.status.busy": "2023-07-26T09:00:08.741341Z",
          "iopub.status.idle": "2023-07-26T09:00:08.967803Z",
          "shell.execute_reply": "2023-07-26T09:00:08.967384Z"
        }
      },
      "outputs": [],
      "source": [
        "interpolated_table = joined_table.interpolate(\n",
        "    pw.this.timestamp,\n",
        "    pw.this.lat_1,\n",
        "    pw.this.lng_1,\n",
        "    pw.this.alt_1,\n",
        "    pw.this.lat_2,\n",
        "    pw.this.lng_2,\n",
        "    pw.this.alt_2,\n",
        ")"
      ]
    },
    {
      "cell_type": "code",
      "execution_count": 10,
      "id": "e1c17d5d",
      "metadata": {
        "execution": {
          "iopub.execute_input": "2023-07-26T09:00:08.969360Z",
          "iopub.status.busy": "2023-07-26T09:00:08.969239Z",
          "iopub.status.idle": "2023-07-26T09:00:09.071898Z",
          "shell.execute_reply": "2023-07-26T09:00:09.071489Z"
        }
      },
      "outputs": [
        {
          "name": "stderr",
          "output_type": "stream",
          "text": [
            "[2023-07-26T11:00:08]:INFO:Preparing Pathway computation\n",
            "[2023-07-26T11:00:08]:INFO:CsvFilesystemReader-0: 0 entries (1 minibatch(es)) have been sent to the engine\n",
            "[2023-07-26T11:00:08]:INFO:CsvFilesystemReader-0: 12 entries (2 minibatch(es)) have been sent to the engine\n",
            "[2023-07-26T11:00:08]:WARNING:CsvFilesystemReader-0: Closing the data source\n",
            "[2023-07-26T11:00:08]:INFO:CsvFilesystemReader-1: 0 entries (1 minibatch(es)) have been sent to the engine\n",
            "[2023-07-26T11:00:09]:INFO:CsvFilesystemReader-1: 12 entries (2 minibatch(es)) have been sent to the engine\n",
            "[2023-07-26T11:00:09]:WARNING:CsvFilesystemReader-1: Closing the data source\n"
          ]
        },
        {
          "name": "stdout",
          "output_type": "stream",
          "text": [
            "            | timestamp  | lat_1              | lng_1              | alt_1 | lat_2              | lng_2              | alt_2\n",
            "^AVTEHRY... | 1224744784 | 39.984702          | 116.318417         | 492.0 | 39.984683          | 116.31845          | 492.0\n",
            "^GVZWFH8... | 1224744790 | 39.98469327272728  | 116.318417         | 492.0 | 39.984683          | 116.31845          | 492.0\n",
            "^F5GPBEB... | 1224744795 | 39.984686          | 116.318417         | 492.0 | 39.9846855         | 116.31841750000001 | 492.0\n",
            "^RWS0XYB... | 1224744800 | 39.9846705         | 116.31834          | 492.0 | 39.984688          | 116.318385         | 492.0\n",
            "^HCCZZZN... | 1224744805 | 39.984655          | 116.318263         | 492.0 | 39.9846495         | 116.3182055        | 492.5\n",
            "^X136A3V... | 1224744810 | 39.9846315         | 116.31801200000001 | 492.5 | 39.984611          | 116.318026         | 493.0\n",
            "^7P0X3X7... | 1224744815 | 39.984608          | 116.317761         | 493.0 | 39.984587000000005 | 116.31777149999999 | 494.5\n",
            "^Y6YWANS... | 1224744820 | 39.984573499999996 | 116.31752750000001 | 496.5 | 39.984563          | 116.317517         | 496.0\n"
          ]
        }
      ],
      "source": [
        "preview_table(interpolated_table)"
      ]
    },
    {
      "cell_type": "markdown",
      "id": "7ea5d263",
      "metadata": {},
      "source": [
        "And voila! You have successfully combined two time series! \ud83c\udf89\n",
        "\n",
        "All you need to do it to compute the average speed now."
      ]
    },
    {
      "cell_type": "markdown",
      "id": "ebdee4d2",
      "metadata": {},
      "source": [
        "### 4. Computing the average speed\n",
        "\n",
        "To compute the average speed, you will first calculate the speed by dividing the traveled distance by the time spent between the next and previous time.\n",
        "\n",
        "To simplify the computation of the speed, you can group the different values into two columns `position_1` and `positions_2`:"
      ]
    },
    {
      "cell_type": "code",
      "execution_count": 11,
      "id": "a9b8cdef",
      "metadata": {
        "execution": {
          "iopub.execute_input": "2023-07-26T09:00:09.073435Z",
          "iopub.status.busy": "2023-07-26T09:00:09.073315Z",
          "iopub.status.idle": "2023-07-26T09:00:09.177647Z",
          "shell.execute_reply": "2023-07-26T09:00:09.177283Z"
        }
      },
      "outputs": [
        {
          "name": "stderr",
          "output_type": "stream",
          "text": [
            "[2023-07-26T11:00:09]:INFO:Preparing Pathway computation\n",
            "[2023-07-26T11:00:09]:INFO:CsvFilesystemReader-0: 0 entries (1 minibatch(es)) have been sent to the engine\n",
            "[2023-07-26T11:00:09]:INFO:CsvFilesystemReader-0: 12 entries (2 minibatch(es)) have been sent to the engine\n",
            "[2023-07-26T11:00:09]:WARNING:CsvFilesystemReader-0: Closing the data source\n",
            "[2023-07-26T11:00:09]:INFO:CsvFilesystemReader-1: 0 entries (1 minibatch(es)) have been sent to the engine\n",
            "[2023-07-26T11:00:09]:INFO:CsvFilesystemReader-1: 12 entries (2 minibatch(es)) have been sent to the engine\n",
            "[2023-07-26T11:00:09]:WARNING:CsvFilesystemReader-1: Closing the data source\n"
          ]
        },
        {
          "name": "stdout",
          "output_type": "stream",
          "text": [
            "            | timestamp  | interpolated_position_1                         | interpolated_position_2\n",
            "^2J3HFBX... | 1224744784 | (39.984702, 116.318417, 492.0)                  | (39.984683, 116.31845, 492.0)\n",
            "^42R79H6... | 1224744790 | (39.98469327272728, 116.318417, 492.0)          | (39.984683, 116.31845, 492.0)\n",
            "^6CZ4W4Z... | 1224744795 | (39.984686, 116.318417, 492.0)                  | (39.9846855, 116.31841750000001, 492.0)\n",
            "^YH8K5V2... | 1224744800 | (39.9846705, 116.31834, 492.0)                  | (39.984688, 116.318385, 492.0)\n",
            "^77C9VYD... | 1224744805 | (39.984655, 116.318263, 492.0)                  | (39.9846495, 116.3182055, 492.5)\n",
            "^86912SK... | 1224744810 | (39.9846315, 116.31801200000001, 492.5)         | (39.984611, 116.318026, 493.0)\n",
            "^GGRMP0B... | 1224744815 | (39.984608, 116.317761, 493.0)                  | (39.984587000000005, 116.31777149999999, 494.5)\n",
            "^JGC9YVK... | 1224744820 | (39.984573499999996, 116.31752750000001, 496.5) | (39.984563, 116.317517, 496.0)\n"
          ]
        }
      ],
      "source": [
        "interpolated_table = interpolated_table.select(\n",
        "    pw.this.timestamp,\n",
        "    interpolated_position_1=pw.make_tuple(pw.this.lat_1, pw.this.lng_1, pw.this.alt_1),\n",
        "    interpolated_position_2=pw.make_tuple(pw.this.lat_2, pw.this.lng_2, pw.this.alt_2),\n",
        ")\n",
        "preview_table(interpolated_table)"
      ]
    },
    {
      "cell_type": "markdown",
      "id": "82599579",
      "metadata": {},
      "source": [
        "To compute the distance, you can use the `pyproj` package, which you can install by uncommenting and executing the following command:"
      ]
    },
    {
      "cell_type": "code",
      "execution_count": 12,
      "id": "ff494306",
      "metadata": {
        "execution": {
          "iopub.execute_input": "2023-07-26T09:00:09.179089Z",
          "iopub.status.busy": "2023-07-26T09:00:09.178967Z",
          "iopub.status.idle": "2023-07-26T09:00:09.181301Z",
          "shell.execute_reply": "2023-07-26T09:00:09.180962Z"
        }
      },
      "outputs": [],
      "source": [
        "%%capture --no-display\n",
        "# !pip install pyproj"
      ]
    },
    {
      "cell_type": "code",
      "execution_count": 13,
      "id": "619cca88",
      "metadata": {
        "execution": {
          "iopub.execute_input": "2023-07-26T09:00:09.182649Z",
          "iopub.status.busy": "2023-07-26T09:00:09.182524Z",
          "iopub.status.idle": "2023-07-26T09:00:09.208733Z",
          "shell.execute_reply": "2023-07-26T09:00:09.208384Z"
        }
      },
      "outputs": [],
      "source": [
        "from pyproj import Geod\n",
        "\n",
        "g = Geod(ellps=\"WGS84\")\n",
        "\n",
        "\n",
        "def compute_speed(t_prev, position_prev, t_next, position_next):\n",
        "    try:\n",
        "        _, _, distance_2d = g.inv(\n",
        "            position_prev[1], position_prev[0], position_next[1], position_next[0]\n",
        "        )\n",
        "    except:\n",
        "        return 0.0\n",
        "    return float(distance_2d / (t_next - t_prev))"
      ]
    },
    {
      "cell_type": "markdown",
      "id": "3faaf9b2",
      "metadata": {},
      "source": [
        "Note this is the simple 2-dimensional distance, but you can use your favorite distance metric."
      ]
    },
    {
      "cell_type": "markdown",
      "id": "80239e51",
      "metadata": {},
      "source": [
        "You need to order the table to obtain the previous and next values.\n",
        "This can be done with the `sort` function which provides `prev` and `next` columns, containing pointers to the previous and next rows:"
      ]
    },
    {
      "cell_type": "code",
      "execution_count": 14,
      "id": "49b13370",
      "metadata": {
        "execution": {
          "iopub.execute_input": "2023-07-26T09:00:09.210353Z",
          "iopub.status.busy": "2023-07-26T09:00:09.210231Z",
          "iopub.status.idle": "2023-07-26T09:00:09.423692Z",
          "shell.execute_reply": "2023-07-26T09:00:09.423279Z"
        }
      },
      "outputs": [
        {
          "name": "stderr",
          "output_type": "stream",
          "text": [
            "[2023-07-26T11:00:09]:INFO:Preparing Pathway computation\n",
            "[2023-07-26T11:00:09]:INFO:CsvFilesystemReader-0: 0 entries (1 minibatch(es)) have been sent to the engine\n",
            "[2023-07-26T11:00:09]:INFO:CsvFilesystemReader-0: 12 entries (2 minibatch(es)) have been sent to the engine\n",
            "[2023-07-26T11:00:09]:WARNING:CsvFilesystemReader-0: Closing the data source\n",
            "[2023-07-26T11:00:09]:INFO:CsvFilesystemReader-1: 0 entries (1 minibatch(es)) have been sent to the engine\n",
            "[2023-07-26T11:00:09]:INFO:CsvFilesystemReader-1: 12 entries (2 minibatch(es)) have been sent to the engine\n",
            "[2023-07-26T11:00:09]:WARNING:CsvFilesystemReader-1: Closing the data source\n"
          ]
        },
        {
          "name": "stdout",
          "output_type": "stream",
          "text": [
            "            | timestamp  | interpolated_position_1                         | interpolated_position_2                         | next        | prev\n",
            "^QZRM822... | 1224744784 | (39.984702, 116.318417, 492.0)                  | (39.984683, 116.31845, 492.0)                   | ^2R4GSEZ... |\n",
            "^2R4GSEZ... | 1224744790 | (39.98469327272728, 116.318417, 492.0)          | (39.984683, 116.31845, 492.0)                   | ^XRRVE02... | ^QZRM822...\n",
            "^XRRVE02... | 1224744795 | (39.984686, 116.318417, 492.0)                  | (39.9846855, 116.31841750000001, 492.0)         | ^6E98CXF... | ^2R4GSEZ...\n",
            "^6E98CXF... | 1224744800 | (39.9846705, 116.31834, 492.0)                  | (39.984688, 116.318385, 492.0)                  | ^JAHF2V7... | ^XRRVE02...\n",
            "^JAHF2V7... | 1224744805 | (39.984655, 116.318263, 492.0)                  | (39.9846495, 116.3182055, 492.5)                | ^CJ1R14M... | ^6E98CXF...\n",
            "^CJ1R14M... | 1224744810 | (39.9846315, 116.31801200000001, 492.5)         | (39.984611, 116.318026, 493.0)                  | ^3WKTH5J... | ^JAHF2V7...\n",
            "^3WKTH5J... | 1224744815 | (39.984608, 116.317761, 493.0)                  | (39.984587000000005, 116.31777149999999, 494.5) | ^79BKGZ2... | ^CJ1R14M...\n",
            "^79BKGZ2... | 1224744820 | (39.984573499999996, 116.31752750000001, 496.5) | (39.984563, 116.317517, 496.0)                  | ^RN39W33... | ^3WKTH5J...\n"
          ]
        }
      ],
      "source": [
        "interpolated_table += interpolated_table.sort(key=pw.this.timestamp)\n",
        "preview_table(interpolated_table)"
      ]
    },
    {
      "cell_type": "markdown",
      "id": "3db9d9a6",
      "metadata": {},
      "source": [
        "Then, you can use transformer classes to compute the instant speed on all the points for both sources:"
      ]
    },
    {
      "cell_type": "code",
      "execution_count": 15,
      "id": "8dff3229",
      "metadata": {
        "execution": {
          "iopub.execute_input": "2023-07-26T09:00:09.425235Z",
          "iopub.status.busy": "2023-07-26T09:00:09.425112Z",
          "iopub.status.idle": "2023-07-26T09:00:09.577096Z",
          "shell.execute_reply": "2023-07-26T09:00:09.576696Z"
        }
      },
      "outputs": [
        {
          "name": "stderr",
          "output_type": "stream",
          "text": [
            "[2023-07-26T11:00:09]:INFO:Preparing Pathway computation\n",
            "[2023-07-26T11:00:09]:INFO:CsvFilesystemReader-0: 0 entries (1 minibatch(es)) have been sent to the engine\n",
            "[2023-07-26T11:00:09]:INFO:CsvFilesystemReader-0: 12 entries (2 minibatch(es)) have been sent to the engine\n",
            "[2023-07-26T11:00:09]:WARNING:CsvFilesystemReader-0: Closing the data source\n",
            "[2023-07-26T11:00:09]:INFO:CsvFilesystemReader-1: 0 entries (1 minibatch(es)) have been sent to the engine\n",
            "[2023-07-26T11:00:09]:INFO:CsvFilesystemReader-1: 12 entries (2 minibatch(es)) have been sent to the engine\n",
            "[2023-07-26T11:00:09]:WARNING:CsvFilesystemReader-1: Closing the data source\n"
          ]
        },
        {
          "name": "stdout",
          "output_type": "stream",
          "text": [
            "            | timestamp  | speed_1            | speed_2\n",
            "^A1NVJQE... | 1224744784 | 0.1615044922828007 | 0.0\n",
            "^CGD4WAB... | 1224744790 | 0.1615044922277721 | 0.25361497797652005\n",
            "^KQ0EDKQ... | 1224744795 | 0.7046121958265952 | 0.5579529416239059\n",
            "^84VWQDJ... | 1224744800 | 1.3596501331007218 | 1.854349269858084\n",
            "^Z39B45H... | 1224744805 | 2.834814944235183  | 3.1832873217197717\n",
            "^F9EJW6C... | 1224744810 | 4.319373713695855  | 3.771323183438932\n",
            "^VJECECE... | 1224744815 | 4.18807153239199   | 4.380070781579824\n",
            "^P4YV750... | 1224744820 | 4.061700931690473  | 4.1041911629857255\n"
          ]
        }
      ],
      "source": [
        "@pw.transformer\n",
        "class computing_speed:\n",
        "    class ordered_ts(pw.ClassArg):\n",
        "        timestamp = pw.input_attribute()\n",
        "        interpolated_position_1 = pw.input_attribute()\n",
        "        interpolated_position_2 = pw.input_attribute()\n",
        "        prev = pw.input_attribute()\n",
        "        next = pw.input_attribute()\n",
        "\n",
        "        @pw.output_attribute\n",
        "        def speed_1(self) -> float:\n",
        "            t = self.timestamp\n",
        "            t_prev = t\n",
        "            position_prev = self.interpolated_position_1\n",
        "            t_next = t\n",
        "            position_next = self.interpolated_position_1\n",
        "            if self.prev is not None:\n",
        "                t_prev = self.transformer.ordered_ts[self.prev].timestamp\n",
        "                position_prev = self.transformer.ordered_ts[\n",
        "                    self.prev\n",
        "                ].interpolated_position_1\n",
        "            if self.next is not None:\n",
        "                t_next = self.transformer.ordered_ts[self.next].timestamp\n",
        "                position_next = self.transformer.ordered_ts[\n",
        "                    self.next\n",
        "                ].interpolated_position_1\n",
        "            return compute_speed(t_prev, position_prev, t_next, position_next)\n",
        "\n",
        "        @pw.output_attribute\n",
        "        def speed_2(self) -> float:\n",
        "            t = self.timestamp\n",
        "            t_prev = t\n",
        "            position_prev = self.interpolated_position_2\n",
        "            t_next = t\n",
        "            position_next = self.interpolated_position_2\n",
        "            if self.prev is not None:\n",
        "                t_prev = self.transformer.ordered_ts[self.prev].timestamp\n",
        "                position_prev = self.transformer.ordered_ts[\n",
        "                    self.prev\n",
        "                ].interpolated_position_2\n",
        "            if self.next is not None:\n",
        "                t_next = self.transformer.ordered_ts[self.next].timestamp\n",
        "                position_next = self.transformer.ordered_ts[\n",
        "                    self.next\n",
        "                ].interpolated_position_2\n",
        "            return compute_speed(t_prev, position_prev, t_next, position_next)\n",
        "\n",
        "\n",
        "table_speed = computing_speed(ordered_ts=interpolated_table).ordered_ts\n",
        "table_speed = pw.Table.from_columns(interpolated_table.timestamp) + table_speed\n",
        "preview_table(table_speed)"
      ]
    },
    {
      "cell_type": "markdown",
      "id": "444b3ec0",
      "metadata": {},
      "source": [
        "Finally, you can compute the average of the two speeds at each timestamp:"
      ]
    },
    {
      "cell_type": "code",
      "execution_count": 16,
      "id": "4556acaf",
      "metadata": {
        "execution": {
          "iopub.execute_input": "2023-07-26T09:00:09.578548Z",
          "iopub.status.busy": "2023-07-26T09:00:09.578426Z",
          "iopub.status.idle": "2023-07-26T09:00:09.720613Z",
          "shell.execute_reply": "2023-07-26T09:00:09.720202Z"
        }
      },
      "outputs": [
        {
          "name": "stderr",
          "output_type": "stream",
          "text": [
            "[2023-07-26T11:00:09]:INFO:Preparing Pathway computation\n",
            "[2023-07-26T11:00:09]:INFO:CsvFilesystemReader-0: 0 entries (1 minibatch(es)) have been sent to the engine\n",
            "[2023-07-26T11:00:09]:INFO:CsvFilesystemReader-0: 12 entries (2 minibatch(es)) have been sent to the engine\n",
            "[2023-07-26T11:00:09]:WARNING:CsvFilesystemReader-0: Closing the data source\n",
            "[2023-07-26T11:00:09]:INFO:CsvFilesystemReader-1: 0 entries (1 minibatch(es)) have been sent to the engine\n",
            "[2023-07-26T11:00:09]:INFO:CsvFilesystemReader-1: 12 entries (2 minibatch(es)) have been sent to the engine\n",
            "[2023-07-26T11:00:09]:WARNING:CsvFilesystemReader-1: Closing the data source\n"
          ]
        },
        {
          "name": "stdout",
          "output_type": "stream",
          "text": [
            "            | timestamp  | speed\n",
            "^B305QY2... | 1224744784 | 0.08075224614140035\n",
            "^A7JZBPM... | 1224744790 | 0.2075597351021461\n",
            "^RM59B0V... | 1224744795 | 0.6312825687252506\n",
            "^B8N0P4Z... | 1224744800 | 1.6069997014794029\n",
            "^DRBH0AB... | 1224744805 | 3.0090511329774774\n",
            "^8G8WCKV... | 1224744810 | 4.045348448567394\n",
            "^59T155T... | 1224744815 | 4.284071156985907\n",
            "^T15SVTN... | 1224744820 | 4.082946047338099\n"
          ]
        }
      ],
      "source": [
        "average_speed_table = table_speed.select(\n",
        "    pw.this.timestamp,\n",
        "    speed=(pw.this.speed_1 + pw.this.speed_2) / 2.0,\n",
        ")\n",
        "preview_table(average_speed_table)"
      ]
    },
    {
      "cell_type": "markdown",
      "id": "04567ea3",
      "metadata": {},
      "source": [
        "You have now the speed for all the timestamps.\n",
        "\n",
        "Although initially designed for static GPS traces, this configuration can easily be adapted for a [streaming setup](/developers/user-guide/introduction/streaming-and-static-modes/) by modifying the [connectors](/developers/user-guide/input-and-output-streams/connectors/). In streaming mode, all calculations will be automatically refreshed whenever a new GPS position is received."
      ]
    },
    {
      "cell_type": "markdown",
      "id": "92641d4a",
      "metadata": {},
      "source": [
        "## Conclusions\n",
        "Congratulations, you now have the skills to combine time series and unlock new insights in your data!\n",
        "\n",
        "This article focused on combining two GPS traces to compute the average speed.\n",
        "However, the principles we discussed can be applied to a wide range of time series data, from stock prices to weather data to sensor readings.\n",
        "\n",
        "By combining and analyzing time series data, you can uncover patterns, trends, and relationships that may not be immediately apparent from individual series.\n",
        "This can be especially useful in complex modeling scenarios that involve multiple data sources.\n",
        "\n",
        "For instance, imagine you want to predict weather patterns using a combination of humidity, temperature, and other metrics.\n",
        "By combining these time series, you could create a more comprehensive picture of the conditions affecting your area's weather patterns.\n",
        "\n",
        "The possibilities for time series analysis are endless, and if you're interested in learning more, be sure to check out [our article on log monitoring](/developers/tutorials/realtime-log-monitoring).\n",
        "In it, we explore how to use time series analysis to detect anomalies in your web server's logs."
      ]
    }
  ],
  "metadata": {
    "kernelspec": {
      "display_name": "Python 3 (ipykernel)",
      "language": "python",
      "name": "python3"
    },
    "language_info": {
      "codemirror_mode": {
        "name": "ipython",
        "version": 3
      },
      "file_extension": ".py",
      "mimetype": "text/x-python",
      "name": "python",
      "nbconvert_exporter": "python",
      "pygments_lexer": "ipython3",
      "version": "3.11.4"
    }
  },
  "nbformat": 4,
  "nbformat_minor": 5
}