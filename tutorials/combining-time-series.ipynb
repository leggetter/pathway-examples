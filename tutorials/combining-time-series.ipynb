{
  "cells": [
    {
      "cell_type": "markdown",
      "metadata": {
        "id": "view-in-colab"
      },
      "source": [
        "<a href=\"https://colab.research.google.com/github/pathwaycom/pathway-examples/blob/main/tutorials/combining-time-series.ipynb\" target=\"_parent\"><img src=\"https://pathway.com/assets/colab-badge.svg\" alt=\"Run In Colab\" class=\"inline\"/></a>"
      ]
    },
    {
      "cell_type": "markdown",
      "source": [
        "# Installing Pathway with Python 3.10+\n",
        "\n",
        "In the cell below, we install Pathway into a Python 3.10+ Linux runtime.\n",
        "\n",
        "> **If you are running in Google Colab, please run the colab notebook (Ctrl+F9)**, disregarding the 'not authored by Google' warning.\n",
        "> \n",
        "> **The installation and loading time is less than 1 minute**.\n"
      ],
      "metadata": {
        "id": "notebook-instructions"
      }
    },
    {
      "cell_type": "code",
      "source": [
        "%%capture --no-display\n",
        "!pip install pathway"
      ],
      "metadata": {
        "id": "pip-installation-pathway",
        "cellView": "form"
      },
      "execution_count": null,
      "outputs": []
    },
    {
      "cell_type": "markdown",
      "id": "f51df744",
      "metadata": {
        "lines_to_next_cell": 0
      },
      "source": [
        "# Combining two time series in Pathway\n",
        "In this article, you will learn how to combine time series in Pathway.\n",
        "\n",
        "With the emergence of IoT technology, we now have a wide range of sensor devices at our disposal that can measure almost anything, from GPS positions to humidity and temperature.\n",
        "Since each measurement is timestamped, this generated data are time series: the data can be analyzed and modeled as a sequence of values that change over time.\n",
        "\n",
        "![Example of combination of two time series](https://pathway.com/assets/content/tutorials/time_series/time_series_join_process.svg)\n",
        "\n",
        "While combining time series data can be challenging due to the lack of matching timestamps between different datasets, it is a crucial operation.\n",
        "Combining values from multiple sensors measuring the same metric can improve measurement accuracy.\n",
        "Also, combining various metrics on a common time index allows in-depth analysis and modeling.\n",
        "\n",
        "![Example of two time series with different timestamps'\n",
        "width: '500px](https://pathway.com/assets/content/tutorials/time_series/time_series_1.svg)\n\n",
        "\n",
        "In this article, we will explore how to combine time series data using Pathway by calculating the average speed of a fleet of cars.\n",
        "So, fasten your seatbelt and get ready to explore the world of time series!\n",
        "\n",
        "## Time series\n",
        "\n",
        "A time series is a type of data that records observations or measurements over time. It can be anything from stock prices, weather data, or the number of customers visiting a store to more complex measures like physiological signals from medical devices.\n",
        "Consider a time series as a sequence of data points collected at regular or irregular intervals over time. Each data point in a time series represents a measurement or observation made at a specific point in time.\n",
        "\n",
        "::inline\n",
        "\n",
        "::article-img\n",
        "---\n",
        "src: '/assets/content/tutorials/time_series/single_time_series.svg'\n",
        "alt: 'Example of a time series represented as an event stream'\n",
        "width: '75px'\n",
        "---\n",
        "::\n",
        "\n",
        "::article-img\n",
        "---\n",
        "src: '/assets/content/tutorials/time_series/time_series_graph.svg'\n",
        "alt: 'Example of a time series represented as a graph'\n",
        "width: '350px'\n",
        "---\n",
        "::\n",
        "\n",
        "::article-img\n",
        "---\n",
        "src: '/assets/content/tutorials/time_series/time_series_table-cropped.svg'\n",
        "alt: 'Example of a time series represented as a table'\n",
        "width: '150px'\n",
        "---\n",
        "::\n",
        "\n",
        "::\n",
        "\n",
        "<!---\n",
        "![Example of a time series represented as an event stream](https://pathway.com/assets/content/tutorials/time_series/single_time_series.svg)\n",
        "![Example of a time series represented as a graph](https://pathway.com/assets/content/tutorials/time_series/time_series_graph.svg)\n",
        "![Example of a time series represented as a table](https://pathway.com/assets/content/tutorials/time_series/time_series_table-cropped.svg)\n",
        "-->\n",
        "\n",
        "The concept of time series is critical in many real-world applications, from finance and economics to healthcare and meteorology. Analyzing time series data allows us to gain insights into patterns, trends, and relationships between variables over time. For example, we can use time series data to forecast future values, identify anomalies, or monitor changes in a system.\n",
        "Time series data can be represented in various formats, from simple spreadsheets to complex databases. However, analyzing and modeling time series data can be challenging due to its complex nature and different types of noise and anomalies.\n",
        "\n",
        "\n",
        "### Combining time series\n",
        "\n",
        "Combining time series is the process of combining different time series into a single time series based on a common timestamp or index. In other words, combining time series consists in merging data from various sources into a comprehensive time series, allowing for deeper analysis and modeling.\n",
        "\n",
        "![Example of combination of two time series](https://pathway.com/assets/content/tutorials/time_series/time_series_join_process.svg)\n",
        "\n",
        "Combining time series are essential for several reasons. Firstly, it can improve the accuracy of the measurements by combining the values of several sensors measuring the same metric. For example, imagine you have multiple sensors measuring the temperature of a room. By combining the time series data from these sensors, you can get a more accurate representation of the temperature in the room.\n",
        "\n",
        "Secondly, by combining and analyzing various time series data streams, valuable insights can be derived across different domains, enabling performance optimization, predictive maintenance, resource management, and strategic decision-making:\n",
        " - Website analytics \ud83d\udcbb: Combining time series data on website traffic, user engagement, conversion rates, and marketing campaign metrics can provide insights into user behavior, measure the effectiveness of marketing efforts, and optimize website performance.\n",
        " - Health monitoring \ud83e\ude7a: Combining time series data from wearable devices, such as heart rate, sleep patterns, and physical activity, can help track and analyze individuals' health and wellness trends, enabling personalized healthcare interventions.\n",
        " - Environmental monitoring \ud83c\udf21\ufe0f: Combining time series data from air quality sensors, weather stations, and pollutant levels can provide a comprehensive understanding of the environment's condition, aid in pollution control efforts, and support urban planning initiatives.\n",
        " - Supply chain management \ud83d\udce6: Combining time series data on inventory levels, production rates, transportation delays, and customer demand can optimize inventory management, improve delivery schedules, and enhance overall supply chain efficiency.\n",
        " - Analyzing stock market data \ud83d\udcc8: Combining time series of stock prices, trading volumes, and financial indicators can provide a comprehensive view of the market's behavior and aid in identifying trends, correlations, and investment opportunities.\n",
        " - Technical analysis and development \ud83c\udfce\ufe0f: Combining time series data on car sensors readings, engine performance, aerodynamic data, and telemetry can aid in the technical analysis and development of Formula 1 cars, leading to improvements in speed, reliability, and overall performance.\n",
        "\n",
        "Combining time series is an essential operation in time series analysis, but it can be challenging due to the need for matching timestamps between different datasets. Nonetheless, various techniques and tools can help us merge time series data effectively, such as interpolation or merging on the closest timestamp."
      ]
    },
    {
      "cell_type": "markdown",
      "id": "0c23c7af",
      "metadata": {
        "jp-MarkdownHeadingCollapsed": true,
        "lines_to_next_cell": 0
      },
      "source": [
        "## The average speed of a taxi and its passenger\n",
        "Imagine you are working for a taxi company, and people are using your app to book a ride.\n",
        "You can access the GPS traces of the taxi and the passengers.\n",
        "By using those two traces jointly, you can better approximate the average speed of the ride.\n",
        "This allows you to identify potential bottlenecks or inefficiencies in the system and take corrective measures to improve traffic flow and reduce travel time.\n"
      ]
    },
    {
      "cell_type": "markdown",
      "id": "0da53ae1",
      "metadata": {},
      "source": [
        "## Creating the dataset\n",
        "\n",
        "Unfortunately, it is hard to find publicly available datasets with the characteristics we are interested in.\n",
        "Existing publicly available GPS datasets contain individual taxi traces without the passengers' GPS traces.\n",
        "You will generate our pairs of traces from one of such individual traces.\n",
        "\n",
        "### The dataset: GeoLife\n",
        "You will use one trace of the [GeoLife dataset](https://www.microsoft.com/en-us/research/publication/geolife-gps-trajectory-dataset-user-guide/) from Microsoft Research.\n",
        "GeoLife is a GPS trajectory dataset containing 17,621 trajectories obtained using different GPS loggers and phones.\n",
        "\n",
        "### Generation of a fleet of two cars\n",
        "Let's generate two traces by splitting the trace: each GPS data point is alternatively assigned to one of the new traces.\n",
        "This ensures that the two traces have the same trajectory while having different timestamps.\n",
        "\n",
        "You can download the trace of this example by uncommenting and executing the following command:"
      ]
    },
    {
      "cell_type": "code",
      "execution_count": 1,
      "id": "35d96086",
      "metadata": {
        "execution": {
          "iopub.execute_input": "2023-08-07T08:03:03.514408Z",
          "iopub.status.busy": "2023-08-07T08:03:03.514170Z",
          "iopub.status.idle": "2023-08-07T08:03:03.518417Z",
          "shell.execute_reply": "2023-08-07T08:03:03.518155Z"
        }
      },
      "outputs": [],
      "source": [
        "%%capture --no-display\n",
        "# !wget https://public-pathway-releases.s3.eu-central-1.amazonaws.com/data/time-series-raw-trace.plt -O raw-trace.plt"
      ]
    },
    {
      "cell_type": "markdown",
      "id": "bb895a0c",
      "metadata": {},
      "source": [
        "To split the trace into two different traces, we simply read the file line by line and write each line into new CSV files:"
      ]
    },
    {
      "cell_type": "code",
      "execution_count": 2,
      "id": "2735af1a",
      "metadata": {
        "execution": {
          "iopub.execute_input": "2023-08-07T08:03:03.520020Z",
          "iopub.status.busy": "2023-08-07T08:03:03.519797Z",
          "iopub.status.idle": "2023-08-07T08:03:03.524539Z",
          "shell.execute_reply": "2023-08-07T08:03:03.524279Z"
        }
      },
      "outputs": [],
      "source": [
        "input_trace = \"./raw-trace.plt\"\n",
        "trace_taxi = \"./trace_taxi.csv\"\n",
        "trace_passenger = \"./trace_passenger.csv\"\n",
        "header_row = \"lat,lng,const,alt,elapsed-time,date,time\\n\"\n",
        "\n",
        "with open(input_trace, \"r\") as file:\n",
        "    line = file.readline()\n",
        "    for _ in range(5):\n",
        "        line = file.readline()\n",
        "\n",
        "    trace1 = open(trace_taxi, \"w+\")\n",
        "    trace2 = open(trace_passenger, \"w+\")\n",
        "    trace1.write(header_row)\n",
        "    trace2.write(header_row)\n",
        "\n",
        "    dataset = 1\n",
        "\n",
        "    while line:\n",
        "        line = file.readline()\n",
        "        if dataset:\n",
        "            trace1.write(line)\n",
        "            dataset = 0\n",
        "        else:\n",
        "            trace2.write(line)\n",
        "            dataset = 1\n",
        "    trace1.close()\n",
        "    trace2.close()"
      ]
    },
    {
      "cell_type": "markdown",
      "id": "d4708deb",
      "metadata": {},
      "source": [
        "## Loading the data sources in Pathway\n",
        "\n",
        "To connect Pathway to the two data sources, you have to use Pathway's input connectors.\n",
        "You do not need all the provided data; you can keep only the interesting ones, namely the latitude, longitude, altitude, date, and time:"
      ]
    },
    {
      "cell_type": "code",
      "execution_count": 3,
      "id": "0db5e566",
      "metadata": {
        "execution": {
          "iopub.execute_input": "2023-08-07T08:03:03.526186Z",
          "iopub.status.busy": "2023-08-07T08:03:03.525964Z",
          "iopub.status.idle": "2023-08-07T08:03:04.798336Z",
          "shell.execute_reply": "2023-08-07T08:03:04.797921Z"
        }
      },
      "outputs": [],
      "source": [
        "import pathway as pw\n",
        "\n",
        "columns = [\"lat\", \"lng\", \"alt\", \"date\", \"time\"]\n",
        "\n",
        "\n",
        "class InputSchema(pw.Schema):\n",
        "    lat: float\n",
        "    lng: float\n",
        "    alt: float\n",
        "    date: str\n",
        "    time: str\n",
        "\n",
        "\n",
        "t1 = pw.io.csv.read(trace_taxi, schema=InputSchema, mode=\"static\")\n",
        "t2 = pw.io.csv.read(trace_passenger, schema=InputSchema, mode=\"static\")"
      ]
    },
    {
      "cell_type": "markdown",
      "id": "0b8f2f8c",
      "metadata": {},
      "source": [
        "Note that you use the static mode in this example, but in practice, you should use the streaming mode.\n",
        "You can also [generate a datastream from a static file](/developers/tutorials/connectors/custom-python-connectors)."
      ]
    },
    {
      "cell_type": "markdown",
      "id": "75aae0ee",
      "metadata": {},
      "source": [
        "### Formatting the data\n",
        "After loading the raw data, it's important to format it properly to ensure it can be processed efficiently.\n",
        "\n",
        "First, the time is currently represented by two strings, one for the date and one for the time.\n",
        "Having a single timestamp can simplify the data processing task.\n",
        "You can use `dateutil` and `datetime` to parse them into a timestamp."
      ]
    },
    {
      "cell_type": "code",
      "execution_count": 4,
      "id": "221ea5df",
      "metadata": {
        "execution": {
          "iopub.execute_input": "2023-08-07T08:03:04.800518Z",
          "iopub.status.busy": "2023-08-07T08:03:04.800294Z",
          "iopub.status.idle": "2023-08-07T08:03:04.817786Z",
          "shell.execute_reply": "2023-08-07T08:03:04.817514Z"
        }
      },
      "outputs": [],
      "source": [
        "from datetime import datetime, time\n",
        "\n",
        "from dateutil import parser, tz\n",
        "\n",
        "default_date = datetime.combine(\n",
        "    datetime.now(), time(0, tzinfo=tz.gettz(\"America/New_York\"))\n",
        ")\n",
        "\n",
        "\n",
        "def convert_to_timestamp(date, time) -> int:\n",
        "    datestring = date + \" \" + time\n",
        "    yourdate = parser.parse(datestring, default=default_date)\n",
        "    return int(datetime.timestamp(yourdate))\n",
        "\n",
        "\n",
        "def format_table(t):\n",
        "    return t.select(\n",
        "        *pw.this.without(pw.this.date, pw.this.time),\n",
        "        timestamp=pw.apply(convert_to_timestamp, pw.this.date, pw.this.time),\n",
        "    )\n",
        "\n",
        "\n",
        "t1_timestamp = format_table(t1)\n",
        "t2_timestamp = format_table(t2)"
      ]
    },
    {
      "cell_type": "markdown",
      "id": "8c3a4fb8",
      "metadata": {},
      "source": [
        "Now your time series are ready to be combined and processed!"
      ]
    },
    {
      "cell_type": "markdown",
      "id": "cb8b2c13",
      "metadata": {},
      "source": [
        "### Obtaining a preview of the data\n",
        "\n",
        "Pathway is a framework capable of handling both static and streaming data.\n",
        "However, it is primarily designed to handle streaming data and enable real-time data processing.\n",
        "\n",
        "To ensure that the data is being processed correctly, you can define a function `preview_table` to preview the data.\n",
        "\u26a0\ufe0f It's important to note that **this function should not be used in a production environment** since it relies on `pw.debug.compute_and_print` and static data.\n",
        "Its primary purpose is to check that the data is being processed correctly and to help with the development and testing phase of the data processing pipeline.\n",
        "You should use [Pathway's output connectors](/developers/user-guide/input-and-output-streams/connectors/) to access the data in streaming mode.\n",
        "\n",
        "In this case, you can filter all the entries with a timestamp higher than a given value to only display a small portion of the dataset."
      ]
    },
    {
      "cell_type": "code",
      "execution_count": 5,
      "id": "fd572ff5",
      "metadata": {
        "execution": {
          "iopub.execute_input": "2023-08-07T08:03:04.819345Z",
          "iopub.status.busy": "2023-08-07T08:03:04.819229Z",
          "iopub.status.idle": "2023-08-07T08:03:04.839130Z",
          "shell.execute_reply": "2023-08-07T08:03:04.838845Z"
        }
      },
      "outputs": [
        {
          "name": "stderr",
          "output_type": "stream",
          "text": [
            "[2023-08-07T10:03:04]:INFO:Preparing Pathway computation\n",
            "[2023-08-07T10:03:04]:INFO:CsvFilesystemReader-0: 0 entries (1 minibatch(es)) have been sent to the engine\n",
            "[2023-08-07T10:03:04]:INFO:CsvFilesystemReader-0: 12 entries (2 minibatch(es)) have been sent to the engine\n",
            "[2023-08-07T10:03:04]:WARNING:CsvFilesystemReader-0: Closing the data source\n",
            "[2023-08-07T10:03:04]:INFO:Preparing Pathway computation\n",
            "[2023-08-07T10:03:04]:INFO:CsvFilesystemReader-0: 0 entries (1 minibatch(es)) have been sent to the engine\n",
            "[2023-08-07T10:03:04]:INFO:CsvFilesystemReader-0: 12 entries (2 minibatch(es)) have been sent to the engine\n",
            "[2023-08-07T10:03:04]:WARNING:CsvFilesystemReader-0: Closing the data source\n"
          ]
        },
        {
          "name": "stdout",
          "output_type": "stream",
          "text": [
            "            | lat       | lng        | alt   | timestamp\n",
            "^WWVNZ4J... | 39.984608 | 116.317761 | 493.0 | 1224744815\n",
            "^ZPXE5VW... | 39.984655 | 116.318263 | 492.0 | 1224744805\n",
            "^BTYDHXR... | 39.984686 | 116.318417 | 492.0 | 1224744795\n",
            "^MNAZR95... | 39.984702 | 116.318417 | 492.0 | 1224744784\n",
            "            | lat       | lng        | alt   | timestamp\n",
            "^T2D671V... | 39.984563 | 116.317517 | 496.0 | 1224744820\n",
            "^4KNNQ87... | 39.984611 | 116.318026 | 493.0 | 1224744810\n",
            "^SKY9HBV... | 39.984683 | 116.31845  | 492.0 | 1224744790\n",
            "^5ET629Q... | 39.984688 | 116.318385 | 492.0 | 1224744800\n"
          ]
        }
      ],
      "source": [
        "def preview_table(table, max_timestamp=1224744825):\n",
        "    table = table.filter(pw.this.timestamp < max_timestamp)\n",
        "    pw.debug.compute_and_print(table)\n",
        "\n",
        "\n",
        "preview_table(t1_timestamp)\n",
        "preview_table(t2_timestamp)"
      ]
    },
    {
      "cell_type": "markdown",
      "id": "6e5bc81b",
      "metadata": {},
      "source": [
        "The value 1224744825 is hand-picked to fit this dataset; you can replace it by any desired value."
      ]
    },
    {
      "cell_type": "markdown",
      "id": "96dcdaf5",
      "metadata": {},
      "source": [
        "## Combining the time series and computing the average speed\n",
        "To compute the average speed of the traces, you will proceed as follows:\n",
        "1. Concatenate the time series to obtain a table with the timestamps of both traces.\n",
        "2. Add the existing positions: each timestamp should have a position and a missing position.\n",
        "3. Do an interpolation to estimate the missing values.\n",
        "4. Compute the average speed\n",
        "\n",
        "### 1. Concatenation\n",
        "\n",
        "The first step to combine the two time series is to concatenate them: you want a table with all the timestamps.\n",
        "\n",
        "![Concatenating the timestamps of two time series](https://pathway.com/assets/content/tutorials/time_series/concatenating_timestamps.svg)\n",
        "\n",
        "You can do it easily in Pathway with `pw.Table.concat_reindex`:"
      ]
    },
    {
      "cell_type": "code",
      "execution_count": 6,
      "id": "660dda86",
      "metadata": {
        "execution": {
          "iopub.execute_input": "2023-08-07T08:03:04.840587Z",
          "iopub.status.busy": "2023-08-07T08:03:04.840470Z",
          "iopub.status.idle": "2023-08-07T08:03:04.855887Z",
          "shell.execute_reply": "2023-08-07T08:03:04.855611Z"
        }
      },
      "outputs": [],
      "source": [
        "merged_timestamps = pw.Table.concat_reindex(\n",
        "    t1_timestamp[[\"timestamp\"]], t2_timestamp[[\"timestamp\"]]\n",
        ")"
      ]
    },
    {
      "cell_type": "code",
      "execution_count": 7,
      "id": "e70b96f0",
      "metadata": {
        "execution": {
          "iopub.execute_input": "2023-08-07T08:03:04.857491Z",
          "iopub.status.busy": "2023-08-07T08:03:04.857183Z",
          "iopub.status.idle": "2023-08-07T08:03:04.868074Z",
          "shell.execute_reply": "2023-08-07T08:03:04.867783Z"
        },
        "lines_to_next_cell": 2
      },
      "outputs": [
        {
          "name": "stderr",
          "output_type": "stream",
          "text": [
            "[2023-08-07T10:03:04]:INFO:Preparing Pathway computation\n",
            "[2023-08-07T10:03:04]:INFO:CsvFilesystemReader-0: 0 entries (1 minibatch(es)) have been sent to the engine\n",
            "[2023-08-07T10:03:04]:INFO:CsvFilesystemReader-0: 12 entries (2 minibatch(es)) have been sent to the engine\n",
            "[2023-08-07T10:03:04]:WARNING:CsvFilesystemReader-0: Closing the data source\n",
            "[2023-08-07T10:03:04]:INFO:CsvFilesystemReader-1: 0 entries (1 minibatch(es)) have been sent to the engine\n",
            "[2023-08-07T10:03:04]:INFO:CsvFilesystemReader-1: 12 entries (2 minibatch(es)) have been sent to the engine\n",
            "[2023-08-07T10:03:04]:WARNING:CsvFilesystemReader-1: Closing the data source\n"
          ]
        },
        {
          "name": "stdout",
          "output_type": "stream",
          "text": [
            "            | timestamp\n",
            "^CP8MRPE... | 1224744784\n",
            "^ZF3ZTAS... | 1224744790\n",
            "^RE9ZRMV... | 1224744795\n",
            "^GFBAPA1... | 1224744800\n",
            "^JDREEQ0... | 1224744805\n",
            "^6ZNPWTF... | 1224744810\n",
            "^9A5AFGQ... | 1224744815\n",
            "^WASRDXG... | 1224744820\n"
          ]
        }
      ],
      "source": [
        "preview_table(merged_timestamps)"
      ]
    },
    {
      "cell_type": "markdown",
      "id": "e404ee01",
      "metadata": {},
      "source": [
        "### 2. Adding existing positions\n",
        "Now that you have a table with the timestamps, you must add the positions.\n",
        "You can add the positions by doing a left join on the timestamp table.\n",
        "\n",
        "![Time series with missing values](https://pathway.com/assets/content/tutorials/time_series/time_series_missing_values.svg)\n",
        "\n",
        "\n",
        "You need to rename the columns `lat`, `lng`, and `alt` to `lat_1`, `lng_1`, `alt_1`, `lat_2`, `lng_2`, and `alt_2` to make the distinction between the two data sources."
      ]
    },
    {
      "cell_type": "code",
      "execution_count": 8,
      "id": "ab31feae",
      "metadata": {
        "execution": {
          "iopub.execute_input": "2023-08-07T08:03:04.869425Z",
          "iopub.status.busy": "2023-08-07T08:03:04.869190Z",
          "iopub.status.idle": "2023-08-07T08:03:04.904538Z",
          "shell.execute_reply": "2023-08-07T08:03:04.904263Z"
        }
      },
      "outputs": [
        {
          "name": "stderr",
          "output_type": "stream",
          "text": [
            "[2023-08-07T10:03:04]:INFO:Preparing Pathway computation\n",
            "[2023-08-07T10:03:04]:INFO:CsvFilesystemReader-0: 0 entries (1 minibatch(es)) have been sent to the engine\n",
            "[2023-08-07T10:03:04]:INFO:CsvFilesystemReader-0: 12 entries (2 minibatch(es)) have been sent to the engine\n",
            "[2023-08-07T10:03:04]:WARNING:CsvFilesystemReader-0: Closing the data source\n",
            "[2023-08-07T10:03:04]:INFO:CsvFilesystemReader-1: 0 entries (1 minibatch(es)) have been sent to the engine\n",
            "[2023-08-07T10:03:04]:INFO:CsvFilesystemReader-1: 12 entries (2 minibatch(es)) have been sent to the engine\n",
            "[2023-08-07T10:03:04]:WARNING:CsvFilesystemReader-1: Closing the data source\n"
          ]
        },
        {
          "name": "stdout",
          "output_type": "stream",
          "text": [
            "            | timestamp  | lat_1     | lng_1      | alt_1 | lat_2     | lng_2      | alt_2\n",
            "^ZRW1ZR3... | 1224744784 | 39.984702 | 116.318417 | 492.0 |           |            |\n",
            "^5XFFC8C... | 1224744790 |           |            |       | 39.984683 | 116.31845  | 492.0\n",
            "^YN7S50P... | 1224744795 | 39.984686 | 116.318417 | 492.0 |           |            |\n",
            "^WR05DNZ... | 1224744800 |           |            |       | 39.984688 | 116.318385 | 492.0\n",
            "^C3TS2AM... | 1224744805 | 39.984655 | 116.318263 | 492.0 |           |            |\n",
            "^VJR687M... | 1224744810 |           |            |       | 39.984611 | 116.318026 | 493.0\n",
            "^F418SH6... | 1224744815 | 39.984608 | 116.317761 | 493.0 |           |            |\n",
            "^94X6NPC... | 1224744820 |           |            |       | 39.984563 | 116.317517 | 496.0\n"
          ]
        }
      ],
      "source": [
        "joined_table = (\n",
        "    merged_timestamps.join_left(t1_timestamp, pw.left.timestamp == pw.right.timestamp)\n",
        "    .select(\n",
        "        *pw.left,\n",
        "        **pw.right[[\"lat\", \"lng\", \"alt\"]].with_suffix(\"_1\"),\n",
        "    )\n",
        "    .join_left(t2_timestamp, pw.left.timestamp == pw.right.timestamp)\n",
        "    .select(\n",
        "        *pw.left,\n",
        "        **pw.right[[\"lat\", \"lng\", \"alt\"]].with_suffix(\"_2\"),\n",
        "    )\n",
        ")\n",
        "preview_table(joined_table)"
      ]
    },
    {
      "cell_type": "markdown",
      "id": "cce9b585",
      "metadata": {},
      "source": [
        "Your table now has all the existing positions, but the columns with the positions are half-empty.\n",
        "To fill the missing positions, you must compute an interpolation between the previous and last positions."
      ]
    },
    {
      "cell_type": "markdown",
      "id": "68f0cd51",
      "metadata": {},
      "source": [
        "### 3. Interpolating the positions\n",
        "Now, you will fill the missing values by interpolating with the previous and next values you found.\n",
        "\n",
        "![Filling the missing values](https://pathway.com/assets/content/tutorials/time_series/filling_missing_values.svg)\n"
      ]
    },
    {
      "cell_type": "markdown",
      "id": "e4970346",
      "metadata": {},
      "source": [
        "You need to do a linear interpolation on each column, using the column timestamp as index.\n",
        "This can be done using Pathway's `interpolate` function:"
      ]
    },
    {
      "cell_type": "code",
      "execution_count": 9,
      "id": "863036cf",
      "metadata": {
        "execution": {
          "iopub.execute_input": "2023-08-07T08:03:04.905816Z",
          "iopub.status.busy": "2023-08-07T08:03:04.905703Z",
          "iopub.status.idle": "2023-08-07T08:03:05.160344Z",
          "shell.execute_reply": "2023-08-07T08:03:05.160007Z"
        }
      },
      "outputs": [],
      "source": [
        "interpolated_table = joined_table.interpolate(\n",
        "    pw.this.timestamp,\n",
        "    pw.this.lat_1,\n",
        "    pw.this.lng_1,\n",
        "    pw.this.alt_1,\n",
        "    pw.this.lat_2,\n",
        "    pw.this.lng_2,\n",
        "    pw.this.alt_2,\n",
        ")"
      ]
    },
    {
      "cell_type": "code",
      "execution_count": 10,
      "id": "b1191a7f",
      "metadata": {
        "execution": {
          "iopub.execute_input": "2023-08-07T08:03:05.161971Z",
          "iopub.status.busy": "2023-08-07T08:03:05.161856Z",
          "iopub.status.idle": "2023-08-07T08:03:05.261468Z",
          "shell.execute_reply": "2023-08-07T08:03:05.261128Z"
        }
      },
      "outputs": [
        {
          "name": "stderr",
          "output_type": "stream",
          "text": [
            "[2023-08-07T10:03:05]:INFO:Preparing Pathway computation\n",
            "[2023-08-07T10:03:05]:INFO:CsvFilesystemReader-0: 0 entries (1 minibatch(es)) have been sent to the engine\n",
            "[2023-08-07T10:03:05]:INFO:CsvFilesystemReader-0: 12 entries (2 minibatch(es)) have been sent to the engine\n",
            "[2023-08-07T10:03:05]:WARNING:CsvFilesystemReader-0: Closing the data source\n",
            "[2023-08-07T10:03:05]:INFO:CsvFilesystemReader-1: 0 entries (1 minibatch(es)) have been sent to the engine\n",
            "[2023-08-07T10:03:05]:INFO:CsvFilesystemReader-1: 12 entries (2 minibatch(es)) have been sent to the engine\n",
            "[2023-08-07T10:03:05]:WARNING:CsvFilesystemReader-1: Closing the data source\n"
          ]
        },
        {
          "name": "stdout",
          "output_type": "stream",
          "text": [
            "            | timestamp  | lat_1              | lng_1              | alt_1 | lat_2              | lng_2              | alt_2\n",
            "^G4C72CR... | 1224744784 | 39.984702          | 116.318417         | 492.0 | 39.984683          | 116.31845          | 492.0\n",
            "^Y475SG5... | 1224744790 | 39.98469327272728  | 116.318417         | 492.0 | 39.984683          | 116.31845          | 492.0\n",
            "^RVE8ZTW... | 1224744795 | 39.984686          | 116.318417         | 492.0 | 39.9846855         | 116.31841750000001 | 492.0\n",
            "^MKABFFE... | 1224744800 | 39.9846705         | 116.31834          | 492.0 | 39.984688          | 116.318385         | 492.0\n",
            "^DXZKAKY... | 1224744805 | 39.984655          | 116.318263         | 492.0 | 39.9846495         | 116.3182055        | 492.5\n",
            "^TZQHFP5... | 1224744810 | 39.9846315         | 116.31801200000001 | 492.5 | 39.984611          | 116.318026         | 493.0\n",
            "^3DAZJYX... | 1224744815 | 39.984608          | 116.317761         | 493.0 | 39.984587000000005 | 116.31777149999999 | 494.5\n",
            "^XC9ZR9A... | 1224744820 | 39.984573499999996 | 116.31752750000001 | 496.5 | 39.984563          | 116.317517         | 496.0\n"
          ]
        }
      ],
      "source": [
        "preview_table(interpolated_table)"
      ]
    },
    {
      "cell_type": "markdown",
      "id": "d5be7291",
      "metadata": {},
      "source": [
        "And voila! You have successfully combined two time series! \ud83c\udf89\n",
        "\n",
        "All you need to do it to compute the average speed now."
      ]
    },
    {
      "cell_type": "markdown",
      "id": "9dbd370a",
      "metadata": {},
      "source": [
        "### 4. Computing the average speed\n",
        "\n",
        "To compute the average speed, you will first calculate the speed by dividing the traveled distance by the time spent between the next and previous time.\n",
        "\n",
        "To simplify the computation of the speed, you can group the different values into two columns `position_1` and `positions_2`:"
      ]
    },
    {
      "cell_type": "code",
      "execution_count": 11,
      "id": "11f33926",
      "metadata": {
        "execution": {
          "iopub.execute_input": "2023-08-07T08:03:05.262922Z",
          "iopub.status.busy": "2023-08-07T08:03:05.262810Z",
          "iopub.status.idle": "2023-08-07T08:03:05.368524Z",
          "shell.execute_reply": "2023-08-07T08:03:05.368189Z"
        }
      },
      "outputs": [
        {
          "name": "stderr",
          "output_type": "stream",
          "text": [
            "[2023-08-07T10:03:05]:INFO:Preparing Pathway computation\n",
            "[2023-08-07T10:03:05]:INFO:CsvFilesystemReader-0: 0 entries (1 minibatch(es)) have been sent to the engine\n",
            "[2023-08-07T10:03:05]:INFO:CsvFilesystemReader-0: 12 entries (2 minibatch(es)) have been sent to the engine\n",
            "[2023-08-07T10:03:05]:WARNING:CsvFilesystemReader-0: Closing the data source\n",
            "[2023-08-07T10:03:05]:INFO:CsvFilesystemReader-1: 0 entries (1 minibatch(es)) have been sent to the engine\n",
            "[2023-08-07T10:03:05]:INFO:CsvFilesystemReader-1: 12 entries (2 minibatch(es)) have been sent to the engine\n",
            "[2023-08-07T10:03:05]:WARNING:CsvFilesystemReader-1: Closing the data source\n"
          ]
        },
        {
          "name": "stdout",
          "output_type": "stream",
          "text": [
            "            | timestamp  | interpolated_position_1                         | interpolated_position_2\n",
            "^PZW7FJW... | 1224744784 | (39.984702, 116.318417, 492.0)                  | (39.984683, 116.31845, 492.0)\n",
            "^EP5YTPK... | 1224744790 | (39.98469327272728, 116.318417, 492.0)          | (39.984683, 116.31845, 492.0)\n",
            "^HVV3V2T... | 1224744795 | (39.984686, 116.318417, 492.0)                  | (39.9846855, 116.31841750000001, 492.0)\n",
            "^XE9CC63... | 1224744800 | (39.9846705, 116.31834, 492.0)                  | (39.984688, 116.318385, 492.0)\n",
            "^31FKGAQ... | 1224744805 | (39.984655, 116.318263, 492.0)                  | (39.9846495, 116.3182055, 492.5)\n",
            "^185Q699... | 1224744810 | (39.9846315, 116.31801200000001, 492.5)         | (39.984611, 116.318026, 493.0)\n",
            "^88HWPYR... | 1224744815 | (39.984608, 116.317761, 493.0)                  | (39.984587000000005, 116.31777149999999, 494.5)\n",
            "^RW9AXNJ... | 1224744820 | (39.984573499999996, 116.31752750000001, 496.5) | (39.984563, 116.317517, 496.0)\n"
          ]
        }
      ],
      "source": [
        "interpolated_table = interpolated_table.select(\n",
        "    pw.this.timestamp,\n",
        "    interpolated_position_1=pw.make_tuple(pw.this.lat_1, pw.this.lng_1, pw.this.alt_1),\n",
        "    interpolated_position_2=pw.make_tuple(pw.this.lat_2, pw.this.lng_2, pw.this.alt_2),\n",
        ")\n",
        "preview_table(interpolated_table)"
      ]
    },
    {
      "cell_type": "markdown",
      "id": "75595f05",
      "metadata": {},
      "source": [
        "To compute the distance, you can use the `pyproj` package, which you can install by uncommenting and executing the following command:"
      ]
    },
    {
      "cell_type": "code",
      "execution_count": 12,
      "id": "2f130597",
      "metadata": {
        "execution": {
          "iopub.execute_input": "2023-08-07T08:03:05.369937Z",
          "iopub.status.busy": "2023-08-07T08:03:05.369823Z",
          "iopub.status.idle": "2023-08-07T08:03:05.372048Z",
          "shell.execute_reply": "2023-08-07T08:03:05.371790Z"
        }
      },
      "outputs": [],
      "source": [
        "%%capture --no-display\n",
        "# !pip install pyproj"
      ]
    },
    {
      "cell_type": "code",
      "execution_count": 13,
      "id": "1bc2a835",
      "metadata": {
        "execution": {
          "iopub.execute_input": "2023-08-07T08:03:05.373375Z",
          "iopub.status.busy": "2023-08-07T08:03:05.373265Z",
          "iopub.status.idle": "2023-08-07T08:03:05.402736Z",
          "shell.execute_reply": "2023-08-07T08:03:05.402380Z"
        }
      },
      "outputs": [],
      "source": [
        "from pyproj import Geod\n",
        "\n",
        "g = Geod(ellps=\"WGS84\")\n",
        "\n",
        "\n",
        "def compute_speed(t_prev, position_prev, t_next, position_next):\n",
        "    try:\n",
        "        _, _, distance_2d = g.inv(\n",
        "            position_prev[1], position_prev[0], position_next[1], position_next[0]\n",
        "        )\n",
        "    except:\n",
        "        return 0.0\n",
        "    return float(distance_2d / (t_next - t_prev))"
      ]
    },
    {
      "cell_type": "markdown",
      "id": "b0e270c5",
      "metadata": {},
      "source": [
        "Note this is the simple 2-dimensional distance, but you can use your favorite distance metric."
      ]
    },
    {
      "cell_type": "markdown",
      "id": "af7f8fcc",
      "metadata": {},
      "source": [
        "You need to order the table to obtain the previous and next values.\n",
        "This can be done with the `sort` function which provides `prev` and `next` columns, containing pointers to the previous and next rows:"
      ]
    },
    {
      "cell_type": "code",
      "execution_count": 14,
      "id": "5d767299",
      "metadata": {
        "execution": {
          "iopub.execute_input": "2023-08-07T08:03:05.404327Z",
          "iopub.status.busy": "2023-08-07T08:03:05.404209Z",
          "iopub.status.idle": "2023-08-07T08:03:05.638006Z",
          "shell.execute_reply": "2023-08-07T08:03:05.637668Z"
        }
      },
      "outputs": [
        {
          "name": "stderr",
          "output_type": "stream",
          "text": [
            "[2023-08-07T10:03:05]:INFO:Preparing Pathway computation\n",
            "[2023-08-07T10:03:05]:INFO:CsvFilesystemReader-0: 0 entries (1 minibatch(es)) have been sent to the engine\n",
            "[2023-08-07T10:03:05]:INFO:CsvFilesystemReader-0: 12 entries (2 minibatch(es)) have been sent to the engine\n",
            "[2023-08-07T10:03:05]:WARNING:CsvFilesystemReader-0: Closing the data source\n",
            "[2023-08-07T10:03:05]:INFO:CsvFilesystemReader-1: 0 entries (1 minibatch(es)) have been sent to the engine\n",
            "[2023-08-07T10:03:05]:INFO:CsvFilesystemReader-1: 12 entries (2 minibatch(es)) have been sent to the engine\n",
            "[2023-08-07T10:03:05]:WARNING:CsvFilesystemReader-1: Closing the data source\n"
          ]
        },
        {
          "name": "stdout",
          "output_type": "stream",
          "text": [
            "            | timestamp  | interpolated_position_1                         | interpolated_position_2                         | next        | prev\n",
            "^HSY29GS... | 1224744784 | (39.984702, 116.318417, 492.0)                  | (39.984683, 116.31845, 492.0)                   | ^N8V4SQ2... |\n",
            "^N8V4SQ2... | 1224744790 | (39.98469327272728, 116.318417, 492.0)          | (39.984683, 116.31845, 492.0)                   | ^R372DT9... | ^HSY29GS...\n",
            "^R372DT9... | 1224744795 | (39.984686, 116.318417, 492.0)                  | (39.9846855, 116.31841750000001, 492.0)         | ^EWH9YY1... | ^N8V4SQ2...\n",
            "^EWH9YY1... | 1224744800 | (39.9846705, 116.31834, 492.0)                  | (39.984688, 116.318385, 492.0)                  | ^WMR0V9D... | ^R372DT9...\n",
            "^WMR0V9D... | 1224744805 | (39.984655, 116.318263, 492.0)                  | (39.9846495, 116.3182055, 492.5)                | ^7H70N22... | ^EWH9YY1...\n",
            "^7H70N22... | 1224744810 | (39.9846315, 116.31801200000001, 492.5)         | (39.984611, 116.318026, 493.0)                  | ^Y4XM1X1... | ^WMR0V9D...\n",
            "^Y4XM1X1... | 1224744815 | (39.984608, 116.317761, 493.0)                  | (39.984587000000005, 116.31777149999999, 494.5) | ^3F17E8Y... | ^7H70N22...\n",
            "^3F17E8Y... | 1224744820 | (39.984573499999996, 116.31752750000001, 496.5) | (39.984563, 116.317517, 496.0)                  | ^Q5JQCZ5... | ^Y4XM1X1...\n"
          ]
        }
      ],
      "source": [
        "interpolated_table += interpolated_table.sort(key=pw.this.timestamp)\n",
        "preview_table(interpolated_table)"
      ]
    },
    {
      "cell_type": "markdown",
      "id": "414f2ce3",
      "metadata": {},
      "source": [
        "Then, you can use transformer classes to compute the instant speed on all the points for both sources:"
      ]
    },
    {
      "cell_type": "code",
      "execution_count": 15,
      "id": "ef90b7be",
      "metadata": {
        "execution": {
          "iopub.execute_input": "2023-08-07T08:03:05.639442Z",
          "iopub.status.busy": "2023-08-07T08:03:05.639329Z",
          "iopub.status.idle": "2023-08-07T08:03:05.786414Z",
          "shell.execute_reply": "2023-08-07T08:03:05.786126Z"
        }
      },
      "outputs": [
        {
          "name": "stderr",
          "output_type": "stream",
          "text": [
            "[2023-08-07T10:03:05]:INFO:Preparing Pathway computation\n",
            "[2023-08-07T10:03:05]:INFO:CsvFilesystemReader-0: 0 entries (1 minibatch(es)) have been sent to the engine\n",
            "[2023-08-07T10:03:05]:INFO:CsvFilesystemReader-0: 12 entries (2 minibatch(es)) have been sent to the engine\n",
            "[2023-08-07T10:03:05]:WARNING:CsvFilesystemReader-0: Closing the data source\n",
            "[2023-08-07T10:03:05]:INFO:CsvFilesystemReader-1: 0 entries (1 minibatch(es)) have been sent to the engine\n",
            "[2023-08-07T10:03:05]:INFO:CsvFilesystemReader-1: 12 entries (2 minibatch(es)) have been sent to the engine\n",
            "[2023-08-07T10:03:05]:WARNING:CsvFilesystemReader-1: Closing the data source\n"
          ]
        },
        {
          "name": "stdout",
          "output_type": "stream",
          "text": [
            "            | timestamp  | speed_1            | speed_2\n",
            "^AATTB57... | 1224744784 | 0.1615044922828007 | 0.0\n",
            "^KQJCGT0... | 1224744790 | 0.1615044922277721 | 0.25361497797652005\n",
            "^WVGAAM2... | 1224744795 | 0.7046121958265952 | 0.5579529416239059\n",
            "^HX5HA64... | 1224744800 | 1.3596501331007218 | 1.854349269858084\n",
            "^4R3ZYQS... | 1224744805 | 2.834814944235183  | 3.1832873217197717\n",
            "^1A1GY05... | 1224744810 | 4.319373713695855  | 3.771323183438932\n",
            "^6E35JJ0... | 1224744815 | 4.18807153239199   | 4.380070781579824\n",
            "^KK7NHSN... | 1224744820 | 4.061700931690473  | 4.1041911629857255\n"
          ]
        }
      ],
      "source": [
        "@pw.transformer\n",
        "class computing_speed:\n",
        "    class ordered_ts(pw.ClassArg):\n",
        "        timestamp = pw.input_attribute()\n",
        "        interpolated_position_1 = pw.input_attribute()\n",
        "        interpolated_position_2 = pw.input_attribute()\n",
        "        prev = pw.input_attribute()\n",
        "        next = pw.input_attribute()\n",
        "\n",
        "        @pw.output_attribute\n",
        "        def speed_1(self) -> float:\n",
        "            t = self.timestamp\n",
        "            t_prev = t\n",
        "            position_prev = self.interpolated_position_1\n",
        "            t_next = t\n",
        "            position_next = self.interpolated_position_1\n",
        "            if self.prev is not None:\n",
        "                t_prev = self.transformer.ordered_ts[self.prev].timestamp\n",
        "                position_prev = self.transformer.ordered_ts[\n",
        "                    self.prev\n",
        "                ].interpolated_position_1\n",
        "            if self.next is not None:\n",
        "                t_next = self.transformer.ordered_ts[self.next].timestamp\n",
        "                position_next = self.transformer.ordered_ts[\n",
        "                    self.next\n",
        "                ].interpolated_position_1\n",
        "            return compute_speed(t_prev, position_prev, t_next, position_next)\n",
        "\n",
        "        @pw.output_attribute\n",
        "        def speed_2(self) -> float:\n",
        "            t = self.timestamp\n",
        "            t_prev = t\n",
        "            position_prev = self.interpolated_position_2\n",
        "            t_next = t\n",
        "            position_next = self.interpolated_position_2\n",
        "            if self.prev is not None:\n",
        "                t_prev = self.transformer.ordered_ts[self.prev].timestamp\n",
        "                position_prev = self.transformer.ordered_ts[\n",
        "                    self.prev\n",
        "                ].interpolated_position_2\n",
        "            if self.next is not None:\n",
        "                t_next = self.transformer.ordered_ts[self.next].timestamp\n",
        "                position_next = self.transformer.ordered_ts[\n",
        "                    self.next\n",
        "                ].interpolated_position_2\n",
        "            return compute_speed(t_prev, position_prev, t_next, position_next)\n",
        "\n",
        "\n",
        "table_speed = computing_speed(ordered_ts=interpolated_table).ordered_ts\n",
        "table_speed = pw.Table.from_columns(interpolated_table.timestamp) + table_speed\n",
        "preview_table(table_speed)"
      ]
    },
    {
      "cell_type": "markdown",
      "id": "d025d019",
      "metadata": {},
      "source": [
        "Finally, you can compute the average of the two speeds at each timestamp:"
      ]
    },
    {
      "cell_type": "code",
      "execution_count": 16,
      "id": "c272d130",
      "metadata": {
        "execution": {
          "iopub.execute_input": "2023-08-07T08:03:05.788075Z",
          "iopub.status.busy": "2023-08-07T08:03:05.787772Z",
          "iopub.status.idle": "2023-08-07T08:03:05.937025Z",
          "shell.execute_reply": "2023-08-07T08:03:05.936683Z"
        }
      },
      "outputs": [
        {
          "name": "stderr",
          "output_type": "stream",
          "text": [
            "[2023-08-07T10:03:05]:INFO:Preparing Pathway computation\n",
            "[2023-08-07T10:03:05]:INFO:CsvFilesystemReader-0: 0 entries (1 minibatch(es)) have been sent to the engine\n",
            "[2023-08-07T10:03:05]:INFO:CsvFilesystemReader-0: 12 entries (2 minibatch(es)) have been sent to the engine\n",
            "[2023-08-07T10:03:05]:WARNING:CsvFilesystemReader-0: Closing the data source\n",
            "[2023-08-07T10:03:05]:INFO:CsvFilesystemReader-1: 0 entries (1 minibatch(es)) have been sent to the engine\n",
            "[2023-08-07T10:03:05]:INFO:CsvFilesystemReader-1: 12 entries (2 minibatch(es)) have been sent to the engine\n",
            "[2023-08-07T10:03:05]:WARNING:CsvFilesystemReader-1: Closing the data source\n"
          ]
        },
        {
          "name": "stdout",
          "output_type": "stream",
          "text": [
            "            | timestamp  | speed\n",
            "^G08ZV3P... | 1224744784 | 0.08075224614140035\n",
            "^48XSBG9... | 1224744790 | 0.2075597351021461\n",
            "^CPZSF6C... | 1224744795 | 0.6312825687252506\n",
            "^6CK5Z5H... | 1224744800 | 1.6069997014794029\n",
            "^WFP33N5... | 1224744805 | 3.0090511329774774\n",
            "^9FFJN24... | 1224744810 | 4.045348448567394\n",
            "^8YX2A7T... | 1224744815 | 4.284071156985907\n",
            "^5132FW4... | 1224744820 | 4.082946047338099\n"
          ]
        }
      ],
      "source": [
        "average_speed_table = table_speed.select(\n",
        "    pw.this.timestamp,\n",
        "    speed=(pw.this.speed_1 + pw.this.speed_2) / 2.0,\n",
        ")\n",
        "preview_table(average_speed_table)"
      ]
    },
    {
      "cell_type": "markdown",
      "id": "6816d204",
      "metadata": {},
      "source": [
        "You have now the speed for all the timestamps.\n",
        "\n",
        "Although initially designed for static GPS traces, this configuration can easily be adapted for a [streaming setup](/developers/user-guide/introduction/streaming-and-static-modes/) by modifying the [connectors](/developers/user-guide/input-and-output-streams/connectors/). In streaming mode, all calculations will be automatically refreshed whenever a new GPS position is received."
      ]
    },
    {
      "cell_type": "markdown",
      "id": "fd61361e",
      "metadata": {},
      "source": [
        "## Conclusions\n",
        "Congratulations, you now have the skills to combine time series and unlock new insights in your data!\n",
        "\n",
        "This article focused on combining two GPS traces to compute the average speed.\n",
        "However, the principles we discussed can be applied to a wide range of time series data, from stock prices to weather data to sensor readings.\n",
        "\n",
        "By combining and analyzing time series data, you can uncover patterns, trends, and relationships that may not be immediately apparent from individual series.\n",
        "This can be especially useful in complex modeling scenarios that involve multiple data sources.\n",
        "\n",
        "For instance, imagine you want to predict weather patterns using a combination of humidity, temperature, and other metrics.\n",
        "By combining these time series, you could create a more comprehensive picture of the conditions affecting your area's weather patterns.\n",
        "\n",
        "The possibilities for time series analysis are endless, and if you're interested in learning more, be sure to check out [our article on log monitoring](/developers/tutorials/realtime-log-monitoring).\n",
        "In it, we explore how to use time series analysis to detect anomalies in your web server's logs."
      ]
    }
  ],
  "metadata": {
    "kernelspec": {
      "display_name": "Python 3 (ipykernel)",
      "language": "python",
      "name": "python3"
    },
    "language_info": {
      "codemirror_mode": {
        "name": "ipython",
        "version": 3
      },
      "file_extension": ".py",
      "mimetype": "text/x-python",
      "name": "python",
      "nbconvert_exporter": "python",
      "pygments_lexer": "ipython3",
      "version": "3.11.4"
    }
  },
  "nbformat": 4,
  "nbformat_minor": 5
}